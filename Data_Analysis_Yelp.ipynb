{
 "cells": [
  {
   "cell_type": "code",
   "execution_count": 1,
   "metadata": {},
   "outputs": [],
   "source": [
    "#Read the json file from data folder\n",
    "import json\n",
    "import pandas as pd\n",
    "\n",
    "\n"
   ]
  },
  {
   "cell_type": "code",
   "execution_count": 29,
   "metadata": {},
   "outputs": [],
   "source": [
    "with open('data\\yelp_dataset\\yelp_academic_dataset_business.json') as f:\n",
    "    data = [json.loads(line) for line in f]"
   ]
  },
  {
   "cell_type": "code",
   "execution_count": 30,
   "metadata": {},
   "outputs": [],
   "source": [
    "business_df = pd.read_json('data\\yelp_dataset\\yelp_academic_dataset_business.json',\n",
    "                            orient='records', lines=True)[[\"business_id\",\n",
    "                                                            \"address\",\n",
    "                                                            \"city\",\"stars\",\n",
    "                                                            \"review_count\",\"attributes\",\n",
    "                                                            \"categories\"]]\n"
   ]
  },
  {
   "cell_type": "code",
   "execution_count": 31,
   "metadata": {},
   "outputs": [
    {
     "data": {
      "text/html": [
       "<div>\n",
       "<style scoped>\n",
       "    .dataframe tbody tr th:only-of-type {\n",
       "        vertical-align: middle;\n",
       "    }\n",
       "\n",
       "    .dataframe tbody tr th {\n",
       "        vertical-align: top;\n",
       "    }\n",
       "\n",
       "    .dataframe thead th {\n",
       "        text-align: right;\n",
       "    }\n",
       "</style>\n",
       "<table border=\"1\" class=\"dataframe\">\n",
       "  <thead>\n",
       "    <tr style=\"text-align: right;\">\n",
       "      <th></th>\n",
       "      <th>business_id</th>\n",
       "      <th>address</th>\n",
       "      <th>city</th>\n",
       "      <th>stars</th>\n",
       "      <th>review_count</th>\n",
       "      <th>attributes</th>\n",
       "      <th>categories</th>\n",
       "    </tr>\n",
       "  </thead>\n",
       "  <tbody>\n",
       "    <tr>\n",
       "      <th>0</th>\n",
       "      <td>Pns2l4eNsfO8kk83dixA6A</td>\n",
       "      <td>1616 Chapala St, Ste 2</td>\n",
       "      <td>Santa Barbara</td>\n",
       "      <td>5.0</td>\n",
       "      <td>7</td>\n",
       "      <td>{'ByAppointmentOnly': 'True'}</td>\n",
       "      <td>Doctors, Traditional Chinese Medicine, Naturop...</td>\n",
       "    </tr>\n",
       "    <tr>\n",
       "      <th>1</th>\n",
       "      <td>mpf3x-BjTdTEA3yCZrAYPw</td>\n",
       "      <td>87 Grasso Plaza Shopping Center</td>\n",
       "      <td>Affton</td>\n",
       "      <td>3.0</td>\n",
       "      <td>15</td>\n",
       "      <td>{'BusinessAcceptsCreditCards': 'True'}</td>\n",
       "      <td>Shipping Centers, Local Services, Notaries, Ma...</td>\n",
       "    </tr>\n",
       "    <tr>\n",
       "      <th>2</th>\n",
       "      <td>tUFrWirKiKi_TAnsVWINQQ</td>\n",
       "      <td>5255 E Broadway Blvd</td>\n",
       "      <td>Tucson</td>\n",
       "      <td>3.5</td>\n",
       "      <td>22</td>\n",
       "      <td>{'BikeParking': 'True', 'BusinessAcceptsCredit...</td>\n",
       "      <td>Department Stores, Shopping, Fashion, Home &amp; G...</td>\n",
       "    </tr>\n",
       "    <tr>\n",
       "      <th>3</th>\n",
       "      <td>MTSW4McQd7CbVtyjqoe9mw</td>\n",
       "      <td>935 Race St</td>\n",
       "      <td>Philadelphia</td>\n",
       "      <td>4.0</td>\n",
       "      <td>80</td>\n",
       "      <td>{'RestaurantsDelivery': 'False', 'OutdoorSeati...</td>\n",
       "      <td>Restaurants, Food, Bubble Tea, Coffee &amp; Tea, B...</td>\n",
       "    </tr>\n",
       "    <tr>\n",
       "      <th>4</th>\n",
       "      <td>mWMc6_wTdE0EUBKIGXDVfA</td>\n",
       "      <td>101 Walnut St</td>\n",
       "      <td>Green Lane</td>\n",
       "      <td>4.5</td>\n",
       "      <td>13</td>\n",
       "      <td>{'BusinessAcceptsCreditCards': 'True', 'Wheelc...</td>\n",
       "      <td>Brewpubs, Breweries, Food</td>\n",
       "    </tr>\n",
       "  </tbody>\n",
       "</table>\n",
       "</div>"
      ],
      "text/plain": [
       "              business_id                          address           city  \\\n",
       "0  Pns2l4eNsfO8kk83dixA6A           1616 Chapala St, Ste 2  Santa Barbara   \n",
       "1  mpf3x-BjTdTEA3yCZrAYPw  87 Grasso Plaza Shopping Center         Affton   \n",
       "2  tUFrWirKiKi_TAnsVWINQQ             5255 E Broadway Blvd         Tucson   \n",
       "3  MTSW4McQd7CbVtyjqoe9mw                      935 Race St   Philadelphia   \n",
       "4  mWMc6_wTdE0EUBKIGXDVfA                    101 Walnut St     Green Lane   \n",
       "\n",
       "   stars  review_count                                         attributes  \\\n",
       "0    5.0             7                      {'ByAppointmentOnly': 'True'}   \n",
       "1    3.0            15             {'BusinessAcceptsCreditCards': 'True'}   \n",
       "2    3.5            22  {'BikeParking': 'True', 'BusinessAcceptsCredit...   \n",
       "3    4.0            80  {'RestaurantsDelivery': 'False', 'OutdoorSeati...   \n",
       "4    4.5            13  {'BusinessAcceptsCreditCards': 'True', 'Wheelc...   \n",
       "\n",
       "                                          categories  \n",
       "0  Doctors, Traditional Chinese Medicine, Naturop...  \n",
       "1  Shipping Centers, Local Services, Notaries, Ma...  \n",
       "2  Department Stores, Shopping, Fashion, Home & G...  \n",
       "3  Restaurants, Food, Bubble Tea, Coffee & Tea, B...  \n",
       "4                          Brewpubs, Breweries, Food  "
      ]
     },
     "execution_count": 31,
     "metadata": {},
     "output_type": "execute_result"
    }
   ],
   "source": [
    "business_df.head()"
   ]
  },
  {
   "cell_type": "markdown",
   "metadata": {},
   "source": [
    "Lets perform some analysis on Categories column"
   ]
  },
  {
   "cell_type": "code",
   "execution_count": 32,
   "metadata": {},
   "outputs": [],
   "source": [
    "business_df['categories'] = business_df['categories'].str.split(',')"
   ]
  },
  {
   "cell_type": "markdown",
   "metadata": {},
   "source": [
    "Check for null or None values"
   ]
  },
  {
   "cell_type": "code",
   "execution_count": 33,
   "metadata": {},
   "outputs": [
    {
     "data": {
      "text/plain": [
       "business_id         0\n",
       "address             0\n",
       "city                0\n",
       "stars               0\n",
       "review_count        0\n",
       "attributes      13744\n",
       "categories        103\n",
       "dtype: int64"
      ]
     },
     "execution_count": 33,
     "metadata": {},
     "output_type": "execute_result"
    }
   ],
   "source": [
    "#check for null values in the dataset\n",
    "business_df.isnull().sum()"
   ]
  },
  {
   "cell_type": "code",
   "execution_count": 34,
   "metadata": {},
   "outputs": [],
   "source": [
    "#Since it is not possible to identify the cusine without the category, we will drop the rows with null values\n",
    "business_df.dropna(inplace=True)"
   ]
  },
  {
   "cell_type": "markdown",
   "metadata": {},
   "source": [
    "Let's extract cusines of restaurant. Probably the easy way to do this is using an exhaustive list from wikipedia or other sources."
   ]
  },
  {
   "cell_type": "markdown",
   "metadata": {},
   "source": [
    "To undesrtand better the attributes column, lets analyse the unique attributes."
   ]
  },
  {
   "cell_type": "code",
   "execution_count": 35,
   "metadata": {},
   "outputs": [],
   "source": [
    "#Store the number of unique category elements in the categories column\n",
    "unique_categories = set()\n",
    "for categories in business_df['categories']:\n",
    "    for category in categories:\n",
    "        unique_categories.add(category)\n",
    " "
   ]
  },
  {
   "cell_type": "code",
   "execution_count": 37,
   "metadata": {},
   "outputs": [],
   "source": [
    "#Go through each row in business_df['categories] and check if the category is present in the unique_categories set and store the count for each category\n",
    "category_count = {}\n",
    "for categories in business_df['categories']:\n",
    "    for category in categories:\n",
    "        if category in unique_categories:\n",
    "            if category in category_count:\n",
    "                category_count[category] += 1\n",
    "            else:\n",
    "                category_count[category] = 1"
   ]
  },
  {
   "cell_type": "code",
   "execution_count": 38,
   "metadata": {},
   "outputs": [
    {
     "data": {
      "text/plain": [
       "[(' Restaurants', 36588),\n",
       " (' Food', 20669),\n",
       " (' Shopping', 18171),\n",
       " ('Restaurants', 15115),\n",
       " (' Nightlife', 9926),\n",
       " (' Beauty & Spas', 9591),\n",
       " (' Home Services', 9363),\n",
       " (' Bars', 9084),\n",
       " (' Health & Medical', 8197),\n",
       " (' Local Services', 7844)]"
      ]
     },
     "execution_count": 38,
     "metadata": {},
     "output_type": "execute_result"
    }
   ],
   "source": [
    "#Sort the category_count dictionary in descending order\n",
    "sorted_category_count = sorted(category_count.items(), key=lambda x: x[1], reverse=True)\n",
    "\n",
    "#display the top 10 categories\n",
    "sorted_category_count[:10]"
   ]
  },
  {
   "cell_type": "code",
   "execution_count": null,
   "metadata": {},
   "outputs": [],
   "source": []
  },
  {
   "cell_type": "code",
   "execution_count": 59,
   "metadata": {},
   "outputs": [
    {
     "data": {
      "image/png": "[encoded data removed]",
      "text/plain": [
       "<Figure size 1000x1000 with 1 Axes>"
      ]
     },
     "metadata": {},
     "output_type": "display_data"
    }
   ],
   "source": [
    "#plot the top 20 categories\n",
    "import matplotlib.pyplot as plt\n",
    "import seaborn as sns\n",
    "plt.figure(figsize=(10,10))\n",
    "plt.barh([x[0] for x in sorted_category_count[:50]][::-1], [x[1] for x in sorted_category_count[:50]][::-1])\n",
    "plt.ylabel('Category')\n",
    "plt.xlabel('Number of businesses')\n",
    "plt.title('Top 50 categories')\n",
    "plt.xticks(rotation=90)\n",
    "plt.show()"
   ]
  },
  {
   "cell_type": "code",
   "execution_count": 36,
   "metadata": {},
   "outputs": [],
   "source": [
    "#save categories in a excel file\n",
    "import openpyxl\n",
    "unique_categories_df = pd.DataFrame(unique_categories, columns=['categories'])\n",
    "unique_categories_df.to_excel('categories.xlsx', index=False)\n"
   ]
  },
  {
   "cell_type": "code",
   "execution_count": 21,
   "metadata": {},
   "outputs": [],
   "source": [
    "cusine_list = [\"African\",\n",
    "               \"French\",\n",
    "               \"American\",\n",
    "               \"Asian\",\n",
    "               \"Chinese\",\n",
    "               \"Indian\",\n",
    "               \"Italian\",\n",
    "               \"Japanese\",\n",
    "               \"Korean\",\n",
    "               \"Mexican\",\n",
    "               \"Middle Eastern\",\n",
    "               \"Thai\",\n",
    "               \"Vietnamese\",\n",
    "               \"Greek\",\n",
    "               \"Mediterranean\",\n",
    "               \"Spanish\",\n",
    "               \"Turkish\",\n",
    "               \"British\",\n",
    "               \"German\",\n",
    "               \"European\",\n",
    "               \"Arabic\",\n",
    "               \"Sri Lankan\",\n",
    "               \"Sount American\",\n",
    "               \"Pakistani\",\n",
    "                \"Portuguese\",\n",
    "                \"Nordic\",\n",
    "               ]"
   ]
  },
  {
   "cell_type": "code",
   "execution_count": 22,
   "metadata": {},
   "outputs": [],
   "source": [
    "business_df['categories'] = business_df['categories'].apply(lambda x: [item for item in x if item in cusine_list])"
   ]
  },
  {
   "cell_type": "code",
   "execution_count": 23,
   "metadata": {},
   "outputs": [
    {
     "data": {
      "text/html": [
       "<div>\n",
       "<style scoped>\n",
       "    .dataframe tbody tr th:only-of-type {\n",
       "        vertical-align: middle;\n",
       "    }\n",
       "\n",
       "    .dataframe tbody tr th {\n",
       "        vertical-align: top;\n",
       "    }\n",
       "\n",
       "    .dataframe thead th {\n",
       "        text-align: right;\n",
       "    }\n",
       "</style>\n",
       "<table border=\"1\" class=\"dataframe\">\n",
       "  <thead>\n",
       "    <tr style=\"text-align: right;\">\n",
       "      <th></th>\n",
       "      <th>business_id</th>\n",
       "      <th>address</th>\n",
       "      <th>city</th>\n",
       "      <th>stars</th>\n",
       "      <th>review_count</th>\n",
       "      <th>attributes</th>\n",
       "      <th>categories</th>\n",
       "    </tr>\n",
       "  </thead>\n",
       "  <tbody>\n",
       "    <tr>\n",
       "      <th>0</th>\n",
       "      <td>Pns2l4eNsfO8kk83dixA6A</td>\n",
       "      <td>1616 Chapala St, Ste 2</td>\n",
       "      <td>Santa Barbara</td>\n",
       "      <td>5.0</td>\n",
       "      <td>7</td>\n",
       "      <td>{'ByAppointmentOnly': 'True'}</td>\n",
       "      <td>[]</td>\n",
       "    </tr>\n",
       "    <tr>\n",
       "      <th>1</th>\n",
       "      <td>mpf3x-BjTdTEA3yCZrAYPw</td>\n",
       "      <td>87 Grasso Plaza Shopping Center</td>\n",
       "      <td>Affton</td>\n",
       "      <td>3.0</td>\n",
       "      <td>15</td>\n",
       "      <td>{'BusinessAcceptsCreditCards': 'True'}</td>\n",
       "      <td>[]</td>\n",
       "    </tr>\n",
       "    <tr>\n",
       "      <th>2</th>\n",
       "      <td>tUFrWirKiKi_TAnsVWINQQ</td>\n",
       "      <td>5255 E Broadway Blvd</td>\n",
       "      <td>Tucson</td>\n",
       "      <td>3.5</td>\n",
       "      <td>22</td>\n",
       "      <td>{'BikeParking': 'True', 'BusinessAcceptsCredit...</td>\n",
       "      <td>[]</td>\n",
       "    </tr>\n",
       "    <tr>\n",
       "      <th>3</th>\n",
       "      <td>MTSW4McQd7CbVtyjqoe9mw</td>\n",
       "      <td>935 Race St</td>\n",
       "      <td>Philadelphia</td>\n",
       "      <td>4.0</td>\n",
       "      <td>80</td>\n",
       "      <td>{'RestaurantsDelivery': 'False', 'OutdoorSeati...</td>\n",
       "      <td>[]</td>\n",
       "    </tr>\n",
       "    <tr>\n",
       "      <th>4</th>\n",
       "      <td>mWMc6_wTdE0EUBKIGXDVfA</td>\n",
       "      <td>101 Walnut St</td>\n",
       "      <td>Green Lane</td>\n",
       "      <td>4.5</td>\n",
       "      <td>13</td>\n",
       "      <td>{'BusinessAcceptsCreditCards': 'True', 'Wheelc...</td>\n",
       "      <td>[]</td>\n",
       "    </tr>\n",
       "  </tbody>\n",
       "</table>\n",
       "</div>"
      ],
      "text/plain": [
       "              business_id                          address           city  \\\n",
       "0  Pns2l4eNsfO8kk83dixA6A           1616 Chapala St, Ste 2  Santa Barbara   \n",
       "1  mpf3x-BjTdTEA3yCZrAYPw  87 Grasso Plaza Shopping Center         Affton   \n",
       "2  tUFrWirKiKi_TAnsVWINQQ             5255 E Broadway Blvd         Tucson   \n",
       "3  MTSW4McQd7CbVtyjqoe9mw                      935 Race St   Philadelphia   \n",
       "4  mWMc6_wTdE0EUBKIGXDVfA                    101 Walnut St     Green Lane   \n",
       "\n",
       "   stars  review_count                                         attributes  \\\n",
       "0    5.0             7                      {'ByAppointmentOnly': 'True'}   \n",
       "1    3.0            15             {'BusinessAcceptsCreditCards': 'True'}   \n",
       "2    3.5            22  {'BikeParking': 'True', 'BusinessAcceptsCredit...   \n",
       "3    4.0            80  {'RestaurantsDelivery': 'False', 'OutdoorSeati...   \n",
       "4    4.5            13  {'BusinessAcceptsCreditCards': 'True', 'Wheelc...   \n",
       "\n",
       "  categories  \n",
       "0         []  \n",
       "1         []  \n",
       "2         []  \n",
       "3         []  \n",
       "4         []  "
      ]
     },
     "execution_count": 23,
     "metadata": {},
     "output_type": "execute_result"
    }
   ],
   "source": [
    "business_df.head()"
   ]
  },
  {
   "cell_type": "code",
   "execution_count": 11,
   "metadata": {},
   "outputs": [],
   "source": [
    "#print rows where categories is not empty\n",
    "business_df = business_df[business_df.astype(str)['categories'] != '[]']"
   ]
  },
  {
   "cell_type": "code",
   "execution_count": 13,
   "metadata": {},
   "outputs": [
    {
     "data": {
      "text/plain": [
       "(5938, 7)"
      ]
     },
     "execution_count": 13,
     "metadata": {},
     "output_type": "execute_result"
    }
   ],
   "source": [
    "business_df.shape"
   ]
  },
  {
   "cell_type": "code",
   "execution_count": 54,
   "metadata": {},
   "outputs": [
    {
     "data": {
      "text/plain": [
       "False"
      ]
     },
     "execution_count": 54,
     "metadata": {},
     "output_type": "execute_result"
    }
   ],
   "source": [
    "len(unique_categories)\n",
    "#check if \"indian\" is present in the unique categories\n",
    "\" \" in unique_categories"
   ]
  },
  {
   "cell_type": "markdown",
   "metadata": {},
   "source": [
    "## Filtering and loading business dataset"
   ]
  },
  {
   "cell_type": "code",
   "execution_count": 2,
   "metadata": {},
   "outputs": [],
   "source": [
    "def fiter_load_business(file : str, category :str) -> pd.DataFrame:\n",
    "    \"\"\"\n",
    "    This function takes in the file name and the category and returns a dataframe with the filtered data\n",
    "    \"\"\"\n",
    "    business_df = pd.read_json(file, orient='records', lines=True)[[\"business_id\",\n",
    "                                                                    \"name\",\n",
    "                                                                    \"address\",\n",
    "                                                                    \"city\",\"stars\",\n",
    "                                                                    \"review_count\",\"attributes\",\n",
    "                                                                    \"categories\"]]\n",
    "    business_df['categories'] = business_df['categories'].str.split(',')\n",
    "    business_df.dropna(inplace=True)\n",
    "    \n",
    "    # filter the dataframe based on the category variable passed\n",
    "    business_df = business_df[business_df['categories'].apply(lambda x: category in x)]\n",
    "    business_df.reset_index(inplace=True, drop=True)\n",
    "    \n",
    "    return business_df\n",
    "    "
   ]
  },
  {
   "cell_type": "code",
   "execution_count": 3,
   "metadata": {},
   "outputs": [],
   "source": [
    "business_df = fiter_load_business('data\\yelp_dataset\\yelp_academic_dataset_business.json', 'Restaurants')"
   ]
  },
  {
   "cell_type": "code",
   "execution_count": 10,
   "metadata": {},
   "outputs": [
    {
     "data": {
      "text/html": [
       "<div>\n",
       "<style scoped>\n",
       "    .dataframe tbody tr th:only-of-type {\n",
       "        vertical-align: middle;\n",
       "    }\n",
       "\n",
       "    .dataframe tbody tr th {\n",
       "        vertical-align: top;\n",
       "    }\n",
       "\n",
       "    .dataframe thead th {\n",
       "        text-align: right;\n",
       "    }\n",
       "</style>\n",
       "<table border=\"1\" class=\"dataframe\">\n",
       "  <thead>\n",
       "    <tr style=\"text-align: right;\">\n",
       "      <th></th>\n",
       "      <th>business_id</th>\n",
       "      <th>name</th>\n",
       "      <th>address</th>\n",
       "      <th>city</th>\n",
       "      <th>stars</th>\n",
       "      <th>review_count</th>\n",
       "      <th>attributes</th>\n",
       "      <th>categories</th>\n",
       "    </tr>\n",
       "  </thead>\n",
       "  <tbody>\n",
       "    <tr>\n",
       "      <th>0</th>\n",
       "      <td>MTSW4McQd7CbVtyjqoe9mw</td>\n",
       "      <td>St Honore Pastries</td>\n",
       "      <td>935 Race St</td>\n",
       "      <td>Philadelphia</td>\n",
       "      <td>4.0</td>\n",
       "      <td>80</td>\n",
       "      <td>{'RestaurantsDelivery': 'False', 'OutdoorSeati...</td>\n",
       "      <td>[Restaurants,  Food,  Bubble Tea,  Coffee &amp; Te...</td>\n",
       "    </tr>\n",
       "    <tr>\n",
       "      <th>1</th>\n",
       "      <td>9OG5YkX1g2GReZM0AskizA</td>\n",
       "      <td>Romano's Macaroni Grill</td>\n",
       "      <td>5505 S Virginia St</td>\n",
       "      <td>Reno</td>\n",
       "      <td>2.5</td>\n",
       "      <td>339</td>\n",
       "      <td>{'RestaurantsGoodForGroups': 'True', 'Restaura...</td>\n",
       "      <td>[Restaurants,  Italian]</td>\n",
       "    </tr>\n",
       "    <tr>\n",
       "      <th>2</th>\n",
       "      <td>tMkwHmWFUEXrC9ZduonpTg</td>\n",
       "      <td>The Green Pheasant</td>\n",
       "      <td>215 1st Ave S</td>\n",
       "      <td>Nashville</td>\n",
       "      <td>4.0</td>\n",
       "      <td>161</td>\n",
       "      <td>{'RestaurantsGoodForGroups': 'True', 'HappyHou...</td>\n",
       "      <td>[Restaurants,  Japanese,  Seafood]</td>\n",
       "    </tr>\n",
       "    <tr>\n",
       "      <th>3</th>\n",
       "      <td>2xVsWBNFwZOxIOdd9Mwnww</td>\n",
       "      <td>Cheeseburger In Paradise</td>\n",
       "      <td>116 N Pottstown Pike</td>\n",
       "      <td>Exton</td>\n",
       "      <td>2.5</td>\n",
       "      <td>20</td>\n",
       "      <td>{'NoiseLevel': 'u'average'', 'HasTV': 'True', ...</td>\n",
       "      <td>[Restaurants,  Burgers]</td>\n",
       "    </tr>\n",
       "    <tr>\n",
       "      <th>4</th>\n",
       "      <td>ljxNT9p0y7YMPx0fcNBGig</td>\n",
       "      <td>Tony's Restaurant &amp; 3rd Street Cafe</td>\n",
       "      <td>312 Piasa St</td>\n",
       "      <td>Alton</td>\n",
       "      <td>3.0</td>\n",
       "      <td>94</td>\n",
       "      <td>{'RestaurantsReservations': 'True', 'Restauran...</td>\n",
       "      <td>[Restaurants,  Specialty Food,  Steakhouses,  ...</td>\n",
       "    </tr>\n",
       "  </tbody>\n",
       "</table>\n",
       "</div>"
      ],
      "text/plain": [
       "              business_id                                 name  \\\n",
       "0  MTSW4McQd7CbVtyjqoe9mw                   St Honore Pastries   \n",
       "1  9OG5YkX1g2GReZM0AskizA              Romano's Macaroni Grill   \n",
       "2  tMkwHmWFUEXrC9ZduonpTg                   The Green Pheasant   \n",
       "3  2xVsWBNFwZOxIOdd9Mwnww             Cheeseburger In Paradise   \n",
       "4  ljxNT9p0y7YMPx0fcNBGig  Tony's Restaurant & 3rd Street Cafe   \n",
       "\n",
       "                address          city  stars  review_count  \\\n",
       "0           935 Race St  Philadelphia    4.0            80   \n",
       "1    5505 S Virginia St          Reno    2.5           339   \n",
       "2         215 1st Ave S     Nashville    4.0           161   \n",
       "3  116 N Pottstown Pike         Exton    2.5            20   \n",
       "4          312 Piasa St         Alton    3.0            94   \n",
       "\n",
       "                                          attributes  \\\n",
       "0  {'RestaurantsDelivery': 'False', 'OutdoorSeati...   \n",
       "1  {'RestaurantsGoodForGroups': 'True', 'Restaura...   \n",
       "2  {'RestaurantsGoodForGroups': 'True', 'HappyHou...   \n",
       "3  {'NoiseLevel': 'u'average'', 'HasTV': 'True', ...   \n",
       "4  {'RestaurantsReservations': 'True', 'Restauran...   \n",
       "\n",
       "                                          categories  \n",
       "0  [Restaurants,  Food,  Bubble Tea,  Coffee & Te...  \n",
       "1                            [Restaurants,  Italian]  \n",
       "2                 [Restaurants,  Japanese,  Seafood]  \n",
       "3                            [Restaurants,  Burgers]  \n",
       "4  [Restaurants,  Specialty Food,  Steakhouses,  ...  "
      ]
     },
     "execution_count": 10,
     "metadata": {},
     "output_type": "execute_result"
    }
   ],
   "source": [
    "business_df.head()"
   ]
  },
  {
   "cell_type": "code",
   "execution_count": 15,
   "metadata": {},
   "outputs": [
    {
     "data": {
      "text/plain": [
       "pandas.core.frame.DataFrame"
      ]
     },
     "execution_count": 15,
     "metadata": {},
     "output_type": "execute_result"
    }
   ],
   "source": [
    "type(business_df)"
   ]
  },
  {
   "cell_type": "markdown",
   "metadata": {},
   "source": [
    "After filtering we save them as pickle files for quicker and efficient reading"
   ]
  },
  {
   "cell_type": "markdown",
   "metadata": {},
   "source": [
    "Due to the large size of users, we read them user data as chunks"
   ]
  },
  {
   "cell_type": "code",
   "execution_count": 19,
   "metadata": {},
   "outputs": [
    {
     "name": "stdout",
     "output_type": "stream",
     "text": [
      "(10000, 9)\n"
     ]
    },
    {
     "ename": "KeyboardInterrupt",
     "evalue": "",
     "output_type": "error",
     "traceback": [
      "\u001b[1;31m---------------------------------------------------------------------------\u001b[0m",
      "\u001b[1;31mKeyboardInterrupt\u001b[0m                         Traceback (most recent call last)",
      "\u001b[1;32md:\\DSAI-22-24\\KTH-Year2\\Period-2\\ResearchMethodology\\Period-2\\Data_Analysis_Yelp.ipynb Cell 31\u001b[0m line \u001b[0;36m6\n\u001b[0;32m      <a href='vscode-notebook-cell:/d%3A/DSAI-22-24/KTH-Year2/Period-2/ResearchMethodology/Period-2/Data_Analysis_Yelp.ipynb#X33sZmlsZQ%3D%3D?line=3'>4</a>\u001b[0m chunk_df \u001b[39m=\u001b[39m pd\u001b[39m.\u001b[39mDataFrame(chunk)\n\u001b[0;32m      <a href='vscode-notebook-cell:/d%3A/DSAI-22-24/KTH-Year2/Period-2/ResearchMethodology/Period-2/Data_Analysis_Yelp.ipynb#X33sZmlsZQ%3D%3D?line=4'>5</a>\u001b[0m \u001b[39mprint\u001b[39m(chunk_df\u001b[39m.\u001b[39mshape)\n\u001b[1;32m----> <a href='vscode-notebook-cell:/d%3A/DSAI-22-24/KTH-Year2/Period-2/ResearchMethodology/Period-2/Data_Analysis_Yelp.ipynb#X33sZmlsZQ%3D%3D?line=5'>6</a>\u001b[0m \u001b[39mprint\u001b[39;49m(chunk_df\u001b[39m.\u001b[39mhead())\n\u001b[0;32m      <a href='vscode-notebook-cell:/d%3A/DSAI-22-24/KTH-Year2/Period-2/ResearchMethodology/Period-2/Data_Analysis_Yelp.ipynb#X33sZmlsZQ%3D%3D?line=6'>7</a>\u001b[0m \u001b[39mbreak\u001b[39;00m\n",
      "\u001b[1;32md:\\DSAI-22-24\\KTH-Year2\\Period-2\\ResearchMethodology\\Period-2\\Data_Analysis_Yelp.ipynb Cell 31\u001b[0m line \u001b[0;36m6\n\u001b[0;32m      <a href='vscode-notebook-cell:/d%3A/DSAI-22-24/KTH-Year2/Period-2/ResearchMethodology/Period-2/Data_Analysis_Yelp.ipynb#X33sZmlsZQ%3D%3D?line=3'>4</a>\u001b[0m chunk_df \u001b[39m=\u001b[39m pd\u001b[39m.\u001b[39mDataFrame(chunk)\n\u001b[0;32m      <a href='vscode-notebook-cell:/d%3A/DSAI-22-24/KTH-Year2/Period-2/ResearchMethodology/Period-2/Data_Analysis_Yelp.ipynb#X33sZmlsZQ%3D%3D?line=4'>5</a>\u001b[0m \u001b[39mprint\u001b[39m(chunk_df\u001b[39m.\u001b[39mshape)\n\u001b[1;32m----> <a href='vscode-notebook-cell:/d%3A/DSAI-22-24/KTH-Year2/Period-2/ResearchMethodology/Period-2/Data_Analysis_Yelp.ipynb#X33sZmlsZQ%3D%3D?line=5'>6</a>\u001b[0m \u001b[39mprint\u001b[39;49m(chunk_df\u001b[39m.\u001b[39mhead())\n\u001b[0;32m      <a href='vscode-notebook-cell:/d%3A/DSAI-22-24/KTH-Year2/Period-2/ResearchMethodology/Period-2/Data_Analysis_Yelp.ipynb#X33sZmlsZQ%3D%3D?line=6'>7</a>\u001b[0m \u001b[39mbreak\u001b[39;00m\n",
      "File \u001b[1;32m_pydevd_bundle/pydevd_cython.pyx:1457\u001b[0m, in \u001b[0;36m_pydevd_bundle.pydevd_cython.SafeCallWrapper.__call__\u001b[1;34m()\u001b[0m\n",
      "File \u001b[1;32m_pydevd_bundle/pydevd_cython.pyx:701\u001b[0m, in \u001b[0;36m_pydevd_bundle.pydevd_cython.PyDBFrame.trace_dispatch\u001b[1;34m()\u001b[0m\n",
      "File \u001b[1;32m_pydevd_bundle/pydevd_cython.pyx:1152\u001b[0m, in \u001b[0;36m_pydevd_bundle.pydevd_cython.PyDBFrame.trace_dispatch\u001b[1;34m()\u001b[0m\n",
      "File \u001b[1;32m_pydevd_bundle/pydevd_cython.pyx:1135\u001b[0m, in \u001b[0;36m_pydevd_bundle.pydevd_cython.PyDBFrame.trace_dispatch\u001b[1;34m()\u001b[0m\n",
      "File \u001b[1;32m_pydevd_bundle/pydevd_cython.pyx:312\u001b[0m, in \u001b[0;36m_pydevd_bundle.pydevd_cython.PyDBFrame.do_wait_suspend\u001b[1;34m()\u001b[0m\n",
      "File \u001b[1;32md:\\DSAI-22-24\\KTH-Year2\\Period-2\\ResearchMethodology\\Period-2\\.conda\\lib\\site-packages\\debugpy\\_vendored\\pydevd\\pydevd.py:2070\u001b[0m, in \u001b[0;36mPyDB.do_wait_suspend\u001b[1;34m(self, thread, frame, event, arg, exception_type)\u001b[0m\n\u001b[0;32m   2067\u001b[0m             from_this_thread\u001b[39m.\u001b[39mappend(frame_custom_thread_id)\n\u001b[0;32m   2069\u001b[0m     \u001b[39mwith\u001b[39;00m \u001b[39mself\u001b[39m\u001b[39m.\u001b[39m_threads_suspended_single_notification\u001b[39m.\u001b[39mnotify_thread_suspended(thread_id, thread, stop_reason):\n\u001b[1;32m-> 2070\u001b[0m         keep_suspended \u001b[39m=\u001b[39m \u001b[39mself\u001b[39;49m\u001b[39m.\u001b[39;49m_do_wait_suspend(thread, frame, event, arg, suspend_type, from_this_thread, frames_tracker)\n\u001b[0;32m   2072\u001b[0m frames_list \u001b[39m=\u001b[39m \u001b[39mNone\u001b[39;00m\n\u001b[0;32m   2074\u001b[0m \u001b[39mif\u001b[39;00m keep_suspended:\n\u001b[0;32m   2075\u001b[0m     \u001b[39m# This means that we should pause again after a set next statement.\u001b[39;00m\n",
      "File \u001b[1;32md:\\DSAI-22-24\\KTH-Year2\\Period-2\\ResearchMethodology\\Period-2\\.conda\\lib\\site-packages\\debugpy\\_vendored\\pydevd\\pydevd.py:2106\u001b[0m, in \u001b[0;36mPyDB._do_wait_suspend\u001b[1;34m(self, thread, frame, event, arg, suspend_type, from_this_thread, frames_tracker)\u001b[0m\n\u001b[0;32m   2103\u001b[0m         \u001b[39mself\u001b[39m\u001b[39m.\u001b[39m_call_input_hook()\n\u001b[0;32m   2105\u001b[0m     \u001b[39mself\u001b[39m\u001b[39m.\u001b[39mprocess_internal_commands()\n\u001b[1;32m-> 2106\u001b[0m     time\u001b[39m.\u001b[39;49msleep(\u001b[39m0.01\u001b[39;49m)\n\u001b[0;32m   2108\u001b[0m \u001b[39mself\u001b[39m\u001b[39m.\u001b[39mcancel_async_evaluation(get_current_thread_id(thread), \u001b[39mstr\u001b[39m(\u001b[39mid\u001b[39m(frame)))\n\u001b[0;32m   2110\u001b[0m \u001b[39m# process any stepping instructions\u001b[39;00m\n",
      "\u001b[1;31mKeyboardInterrupt\u001b[0m: "
     ]
    }
   ],
   "source": [
    "#read user data in chunks\n",
    "for chunk in pd.read_json('data\\yelp_dataset\\yelp_academic_dataset_review.json',\n",
    "                        orient='records', lines=True, chunksize=10000):\n",
    "    chunk_df = pd.DataFrame(chunk)\n",
    "    print(chunk_df.shape)\n",
    "    print(chunk_df.head())\n",
    "    break\n",
    "                        "
   ]
  },
  {
   "cell_type": "code",
   "execution_count": 2,
   "metadata": {},
   "outputs": [],
   "source": [
    "#read the 1000 rows of user data\n",
    "user_df = pd.read_json('data\\yelp_dataset\\yelp_academic_dataset_user.json',\n",
    "                        orient='records', lines=True, nrows=1000)[[\"user_id\"]]"
   ]
  },
  {
   "cell_type": "markdown",
   "metadata": {},
   "source": [
    "Also read reviews as chunks"
   ]
  },
  {
   "cell_type": "code",
   "execution_count": 3,
   "metadata": {},
   "outputs": [],
   "source": [
    "review_df = pd.read_json('data\\yelp_dataset\\yelp_academic_dataset_review.json',\n",
    "                        orient='records', lines=True, nrows=1000)[[\"review_id\",\"business_id\",\"user_id\",\"stars\",\"text\"]]"
   ]
  },
  {
   "cell_type": "markdown",
   "metadata": {},
   "source": [
    "Iterate through each user_id, and find review_ids"
   ]
  },
  {
   "cell_type": "code",
   "execution_count": null,
   "metadata": {},
   "outputs": [],
   "source": [
    "def group_by_user(user_id : str, review_df : pd.DataFrame) -> list:\n",
    "    review_ids = review_df[review_df['user_id'] == user_id].review_id.tolist()\n",
    "    return review_ids\n",
    "    "
   ]
  },
  {
   "cell_type": "code",
   "execution_count": 5,
   "metadata": {},
   "outputs": [],
   "source": [
    "import concurrent.futures\n",
    "\n",
    "#empty dictionary to store the user_id and the review_ids\n",
    "user_review_dict = {}\n",
    "business_ids = business_df.business_id.unique().tolist()\n",
    "def process_review_chunk(review_chunk):\n",
    "    review_chunk = review_chunk[['user_id', 'review_id', 'business_id', 'stars', 'text']]\n",
    "    review_chunk_df = pd.DataFrame(review_chunk)\n",
    "    for index, row in review_chunk_df.iterrows():\n",
    "        if row['business_id'] in business_ids:\n",
    "            if row['user_id'] in user_review_dict:\n",
    "                user_review_dict[row['user_id']].append(row['review_id'])\n",
    "            else:\n",
    "                user_review_dict[row['user_id']] = [row['review_id']]\n",
    "\n",
    "with concurrent.futures.ProcessPoolExecutor() as executor:\n",
    "    for review_chunk in pd.read_json('data\\yelp_dataset\\yelp_academic_dataset_review.json',\n",
    "                                     orient='records', lines=True, chunksize=10000):\n",
    "        executor.submit(process_review_chunk, review_chunk)\n",
    "    \n",
    "    "
   ]
  },
  {
   "cell_type": "code",
   "execution_count": null,
   "metadata": {},
   "outputs": [],
   "source": [
    "#dump the user_review_dict to a pickle file\n",
    "import pickle\n",
    "with open('user_review_dict.pickle', 'wb') as handle:\n",
    "    pickle.dump(user_review_dict, handle, protocol=pickle.HIGHEST_PROTOCOL)"
   ]
  },
  {
   "cell_type": "code",
   "execution_count": null,
   "metadata": {},
   "outputs": [],
   "source": [
    "for user_chunk in pd.read_json('data\\yelp_dataset\\yelp_academic_dataset_user.json',\n",
    "                        orient='records', lines=True, chunksize=10000)[[\"user_id\"]]:\n",
    "    \"\"\" This loop iterates through each chunk of users, and checks if the user has written a review. \"\"\"\n",
    "\n",
    "    user_chunk_df = pd.DataFrame(user_chunk)\n",
    "    list_of_reviews = []\n",
    "    user_chunk_df[\"Review_ids\"]=\"\"\n",
    "    for review_chunk in pd.read_json('data\\yelp_dataset\\yelp_academic_dataset_review.json',\n",
    "                        orient='records', lines=True, chunksize=10000)[[\"review_id\",\"business_id\",\"user_id\",\"stars\",\"text\"]]:\n",
    "        #iterate through user_id\n",
    "        for user in user_chunk_df.user_id:\n",
    "            review = group_by_user(user, review_chunk)\n",
    "            if review is not None:\n",
    "                list_of_reviews.append(review)\n",
    "            \n",
    "    #create 1 big list of reviews\n",
    "    total_reviews = [item for sublist in list_of_reviews for item in sublist]\n",
    "    user_chunk_df\n",
    "    \n"
   ]
  },
  {
   "cell_type": "code",
   "execution_count": 5,
   "metadata": {},
   "outputs": [],
   "source": [
    "user_id_1= user_df.iloc[]['user_id']\n",
    "#filter the review_df for the user_id_1\n",
    "user_1_reviews = review_df[review_df['user_id'] == user_id_1]"
   ]
  },
  {
   "cell_type": "code",
   "execution_count": 7,
   "metadata": {},
   "outputs": [
    {
     "data": {
      "text/html": [
       "<div>\n",
       "<style scoped>\n",
       "    .dataframe tbody tr th:only-of-type {\n",
       "        vertical-align: middle;\n",
       "    }\n",
       "\n",
       "    .dataframe tbody tr th {\n",
       "        vertical-align: top;\n",
       "    }\n",
       "\n",
       "    .dataframe thead th {\n",
       "        text-align: right;\n",
       "    }\n",
       "</style>\n",
       "<table border=\"1\" class=\"dataframe\">\n",
       "  <thead>\n",
       "    <tr style=\"text-align: right;\">\n",
       "      <th></th>\n",
       "      <th>review_id</th>\n",
       "      <th>business_id</th>\n",
       "      <th>user_id</th>\n",
       "      <th>stars</th>\n",
       "      <th>text</th>\n",
       "    </tr>\n",
       "  </thead>\n",
       "  <tbody>\n",
       "    <tr>\n",
       "      <th>0</th>\n",
       "      <td>KU_O5udG6zpxOg-VcAEodg</td>\n",
       "      <td>XQfwVwDr-v0ZS3_CbbE5Xw</td>\n",
       "      <td>mh_-eMZ6K5RLWhZyISBhwA</td>\n",
       "      <td>3</td>\n",
       "      <td>If you decide to eat here, just be aware it is...</td>\n",
       "    </tr>\n",
       "    <tr>\n",
       "      <th>1</th>\n",
       "      <td>BiTunyQ73aT9WBnpR9DZGw</td>\n",
       "      <td>7ATYjTIgM3jUlt4UM3IypQ</td>\n",
       "      <td>OyoGAe7OKpv6SyGZT5g77Q</td>\n",
       "      <td>5</td>\n",
       "      <td>I've taken a lot of spin classes over the year...</td>\n",
       "    </tr>\n",
       "    <tr>\n",
       "      <th>2</th>\n",
       "      <td>saUsX_uimxRlCVr67Z4Jig</td>\n",
       "      <td>YjUWPpI6HXG530lwP-fb2A</td>\n",
       "      <td>8g_iMtfSiwikVnbP2etR0A</td>\n",
       "      <td>3</td>\n",
       "      <td>Family diner. Had the buffet. Eclectic assortm...</td>\n",
       "    </tr>\n",
       "    <tr>\n",
       "      <th>3</th>\n",
       "      <td>AqPFMleE6RsU23_auESxiA</td>\n",
       "      <td>kxX2SOes4o-D3ZQBkiMRfA</td>\n",
       "      <td>_7bHUi9Uuf5__HHc_Q8guQ</td>\n",
       "      <td>5</td>\n",
       "      <td>Wow!  Yummy, different,  delicious.   Our favo...</td>\n",
       "    </tr>\n",
       "    <tr>\n",
       "      <th>4</th>\n",
       "      <td>Sx8TMOWLNuJBWer-0pcmoA</td>\n",
       "      <td>e4Vwtrqf-wpJfwesgvdgxQ</td>\n",
       "      <td>bcjbaE6dDog4jkNY91ncLQ</td>\n",
       "      <td>4</td>\n",
       "      <td>Cute interior and owner (?) gave us tour of up...</td>\n",
       "    </tr>\n",
       "  </tbody>\n",
       "</table>\n",
       "</div>"
      ],
      "text/plain": [
       "                review_id             business_id                 user_id  \\\n",
       "0  KU_O5udG6zpxOg-VcAEodg  XQfwVwDr-v0ZS3_CbbE5Xw  mh_-eMZ6K5RLWhZyISBhwA   \n",
       "1  BiTunyQ73aT9WBnpR9DZGw  7ATYjTIgM3jUlt4UM3IypQ  OyoGAe7OKpv6SyGZT5g77Q   \n",
       "2  saUsX_uimxRlCVr67Z4Jig  YjUWPpI6HXG530lwP-fb2A  8g_iMtfSiwikVnbP2etR0A   \n",
       "3  AqPFMleE6RsU23_auESxiA  kxX2SOes4o-D3ZQBkiMRfA  _7bHUi9Uuf5__HHc_Q8guQ   \n",
       "4  Sx8TMOWLNuJBWer-0pcmoA  e4Vwtrqf-wpJfwesgvdgxQ  bcjbaE6dDog4jkNY91ncLQ   \n",
       "\n",
       "   stars                                               text  \n",
       "0      3  If you decide to eat here, just be aware it is...  \n",
       "1      5  I've taken a lot of spin classes over the year...  \n",
       "2      3  Family diner. Had the buffet. Eclectic assortm...  \n",
       "3      5  Wow!  Yummy, different,  delicious.   Our favo...  \n",
       "4      4  Cute interior and owner (?) gave us tour of up...  "
      ]
     },
     "execution_count": 7,
     "metadata": {},
     "output_type": "execute_result"
    }
   ],
   "source": [
    "review_df.head()"
   ]
  },
  {
   "cell_type": "code",
   "execution_count": 12,
   "metadata": {},
   "outputs": [
    {
     "data": {
      "text/plain": [
       "0    KU_O5udG6zpxOg-VcAEodg\n",
       "Name: review_id, dtype: object"
      ]
     },
     "execution_count": 12,
     "metadata": {},
     "output_type": "execute_result"
    }
   ],
   "source": [
    "review_df[review_df['user_id'] == \"mh_-eMZ6K5RLWhZyISBhwA\"].review_id"
   ]
  },
  {
   "cell_type": "code",
   "execution_count": null,
   "metadata": {},
   "outputs": [],
   "source": []
  }
 ],
 "metadata": {
  "kernelspec": {
   "display_name": "base",
   "language": "python",
   "name": "python3"
  },
  "language_info": {
   "codemirror_mode": {
    "name": "ipython",
    "version": 3
   },
   "file_extension": ".py",
   "mimetype": "text/x-python",
   "name": "python",
   "nbconvert_exporter": "python",
   "pygments_lexer": "ipython3",
   "version": "3.10.13"
  }
 },
 "nbformat": 4,
 "nbformat_minor": 2
}
